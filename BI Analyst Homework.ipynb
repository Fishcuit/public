{
 "cells": [
  {
   "cell_type": "markdown",
   "metadata": {},
   "source": [
    "# Business Intelligence Analyst Workbook\n",
    "\n",
    "Answer the Following Questions in the Jupyter Notebook\n",
    "Please do not use any Python packages to solve these problems. (Packages to import data and run SQL is fine).\n",
    "If you have any questions, reach out to zach.fifelski@prizepicks.com\n",
    "You can print your results or just write the SQL query if you're having issues with the notebook.\n",
    "If you're not familiar with Postgres you are more than welcome to write in your prefered syntax"
   ]
  },
  {
   "cell_type": "code",
   "execution_count": 1,
   "metadata": {},
   "outputs": [],
   "source": [
    "## Keith Wilcox"
   ]
  },
  {
   "cell_type": "markdown",
   "metadata": {},
   "source": [
    "Here is the link to my dashboards, they are in the zip file too.\n",
    "\n",
    "https://public.tableau.com/views/SA_Tableau_Workbook/RecencyStatusReactivationPotential?:language=en-US&publish=yes&:sid=&:display_count=n&:origin=viz_share_link"
   ]
  },
  {
   "cell_type": "code",
   "execution_count": 1,
   "metadata": {},
   "outputs": [],
   "source": [
    "import pandas as pd\n",
    "import psycopg2\n",
    "from sqlalchemy import create_engine"
   ]
  },
  {
   "cell_type": "code",
   "execution_count": 2,
   "metadata": {},
   "outputs": [
    {
     "data": {
      "text/plain": [
       "298"
      ]
     },
     "execution_count": 2,
     "metadata": {},
     "output_type": "execute_result"
    }
   ],
   "source": [
    "dbname = \"\"\n",
    "user = \"\"\n",
    "password = \"\"\n",
    "host = \"\"\n",
    "port = \"\"\n",
    "\n",
    "\n",
    "conn = psycopg2.connect(\n",
    "    dbname=dbname,\n",
    "    user=user,\n",
    "    password=password,\n",
    "    host=host,\n",
    "    port=port\n",
    ")\n",
    "engine = create_engine(f'postgresql+psycopg2://{user}:{password}@{host}:{port}/{dbname}')\n",
    "\n",
    "\n",
    "sa_entry_data = pd.read_csv('SA_entry_data.csv')\n",
    "sa_signup_data = pd.read_csv('SA_signup_data.csv')\n",
    "\n",
    "sa_entry_data['entry_date'] = pd.to_datetime(sa_entry_data['entry_date'], format='%m/%d/%Y')\n",
    "sa_signup_data['reg_date'] = pd.to_datetime(sa_signup_data['reg_date'], format='%m/%d/%Y')\n",
    "                             \n",
    "\n",
    "sa_entry_data.to_sql('sa_entry_data', engine, if_exists='replace', index=False)\n",
    "sa_signup_data.to_sql('sa_signup_data', engine, if_exists='replace', index=False)"
   ]
  },
  {
   "cell_type": "markdown",
   "metadata": {},
   "source": [
    "## 1.\n",
    "\n",
    "Treat SA_entry_data.csv and SA_signup_data.csv as two tables in a SQL DB named entry_data and signup_data respectively. Write sql queries to answer the following 4 questions"
   ]
  },
  {
   "cell_type": "markdown",
   "metadata": {},
   "source": [
    "a) What is the total entry amount for all members who signed up in September, 2020?"
   ]
  },
  {
   "cell_type": "code",
   "execution_count": 130,
   "metadata": {},
   "outputs": [
    {
     "name": "stderr",
     "output_type": "stream",
     "text": [
      "c:\\Users\\fishc\\Anaconda3\\lib\\site-packages\\pandas\\io\\sql.py:762: UserWarning: pandas only support SQLAlchemy connectable(engine/connection) ordatabase string URI or sqlite3 DBAPI2 connectionother DBAPI2 objects are not tested, please consider using SQLAlchemy\n",
      "  warnings.warn(\n"
     ]
    },
    {
     "data": {
      "text/html": [
       "<div>\n",
       "<style scoped>\n",
       "    .dataframe tbody tr th:only-of-type {\n",
       "        vertical-align: middle;\n",
       "    }\n",
       "\n",
       "    .dataframe tbody tr th {\n",
       "        vertical-align: top;\n",
       "    }\n",
       "\n",
       "    .dataframe thead th {\n",
       "        text-align: right;\n",
       "    }\n",
       "</style>\n",
       "<table border=\"1\" class=\"dataframe\">\n",
       "  <thead>\n",
       "    <tr style=\"text-align: right;\">\n",
       "      <th></th>\n",
       "      <th>total_entry_amount</th>\n",
       "    </tr>\n",
       "  </thead>\n",
       "  <tbody>\n",
       "    <tr>\n",
       "      <th>0</th>\n",
       "      <td>1495076.5</td>\n",
       "    </tr>\n",
       "  </tbody>\n",
       "</table>\n",
       "</div>"
      ],
      "text/plain": [
       "   total_entry_amount\n",
       "0           1495076.5"
      ]
     },
     "execution_count": 130,
     "metadata": {},
     "output_type": "execute_result"
    }
   ],
   "source": [
    "sql = \"\"\"\n",
    "SELECT SUM(e.entry_amount) AS total_entry_amount\n",
    "FROM sa_entry_data AS e\n",
    "JOIN sa_signup_data AS s ON e.user_id = s.user_id\n",
    "WHERE s.reg_date >= '2020-09-01' AND s.reg_date < '2020-10-01'\n",
    "\"\"\"\n",
    "q1_df = pd.read_sql_query(sql, conn)\n",
    "q1_df"
   ]
  },
  {
   "cell_type": "markdown",
   "metadata": {},
   "source": [
    "b) What is the average entry amount per member for each day of the week (Monday-Sunday) in the month of September, 2020?"
   ]
  },
  {
   "cell_type": "code",
   "execution_count": 128,
   "metadata": {},
   "outputs": [
    {
     "data": {
      "text/html": [
       "<div>\n",
       "<style scoped>\n",
       "    .dataframe tbody tr th:only-of-type {\n",
       "        vertical-align: middle;\n",
       "    }\n",
       "\n",
       "    .dataframe tbody tr th {\n",
       "        vertical-align: top;\n",
       "    }\n",
       "\n",
       "    .dataframe thead th {\n",
       "        text-align: right;\n",
       "    }\n",
       "</style>\n",
       "<table border=\"1\" class=\"dataframe\">\n",
       "  <thead>\n",
       "    <tr style=\"text-align: right;\">\n",
       "      <th></th>\n",
       "      <th>day_of_week</th>\n",
       "      <th>average_entry_amount</th>\n",
       "    </tr>\n",
       "  </thead>\n",
       "  <tbody>\n",
       "    <tr>\n",
       "      <th>0</th>\n",
       "      <td>Wednesday</td>\n",
       "      <td>450.233305</td>\n",
       "    </tr>\n",
       "    <tr>\n",
       "      <th>1</th>\n",
       "      <td>Monday</td>\n",
       "      <td>453.902863</td>\n",
       "    </tr>\n",
       "    <tr>\n",
       "      <th>2</th>\n",
       "      <td>Thursday</td>\n",
       "      <td>455.416780</td>\n",
       "    </tr>\n",
       "    <tr>\n",
       "      <th>3</th>\n",
       "      <td>Saturday</td>\n",
       "      <td>438.284150</td>\n",
       "    </tr>\n",
       "    <tr>\n",
       "      <th>4</th>\n",
       "      <td>Tuesday</td>\n",
       "      <td>462.457301</td>\n",
       "    </tr>\n",
       "    <tr>\n",
       "      <th>5</th>\n",
       "      <td>Sunday</td>\n",
       "      <td>496.520202</td>\n",
       "    </tr>\n",
       "    <tr>\n",
       "      <th>6</th>\n",
       "      <td>Friday</td>\n",
       "      <td>456.723744</td>\n",
       "    </tr>\n",
       "  </tbody>\n",
       "</table>\n",
       "</div>"
      ],
      "text/plain": [
       "  day_of_week  average_entry_amount\n",
       "0   Wednesday            450.233305\n",
       "1      Monday            453.902863\n",
       "2    Thursday            455.416780\n",
       "3    Saturday            438.284150\n",
       "4     Tuesday            462.457301\n",
       "5      Sunday            496.520202\n",
       "6      Friday            456.723744"
      ]
     },
     "execution_count": 128,
     "metadata": {},
     "output_type": "execute_result"
    }
   ],
   "source": [
    "sql = \"\"\"\n",
    "WITH sum_of_entries_by_user AS (\n",
    "    SELECT\n",
    "        entry_date,\n",
    "        EXTRACT(DOW FROM entry_date) AS day_of_week,\n",
    "        user_id,\n",
    "        SUM(entry_amount) AS total_entry_amount\n",
    "    FROM\n",
    "        sa_entry_data\n",
    "    WHERE\n",
    "        entry_date >= '2020-09-01' AND entry_date < '2020-10-01'\n",
    "    GROUP BY\n",
    "        entry_date,\n",
    "        day_of_week,\n",
    "        user_id\n",
    "),\n",
    "average_entries_by_weekday AS (\n",
    "    SELECT\n",
    "        day_of_week,\n",
    "        AVG(total_entry_amount) AS average_entry_amount\n",
    "    FROM\n",
    "        sum_of_entries_by_user\n",
    "    GROUP BY\n",
    "        day_of_week\n",
    ")\n",
    "SELECT\n",
    "    CASE day_of_week\n",
    "        WHEN 0 THEN 'Sunday'\n",
    "        WHEN 1 THEN 'Monday'\n",
    "        WHEN 2 THEN 'Tuesday'\n",
    "        WHEN 3 THEN 'Wednesday'\n",
    "        WHEN 4 THEN 'Thursday'\n",
    "        WHEN 5 THEN 'Friday'\n",
    "        WHEN 6 THEN 'Saturday'\n",
    "    END AS day_of_week,\n",
    "    average_entry_amount\n",
    "FROM\n",
    "    average_entries_by_weekday\n",
    "\"\"\"\n",
    "q2_df = pd.read_sql_query(sql, conn)\n",
    "q2_df"
   ]
  },
  {
   "cell_type": "markdown",
   "metadata": {},
   "source": [
    "c) Create an ordered list of the top 5 most popular players (by total entry amount) and their league in the month of September 2020"
   ]
  },
  {
   "cell_type": "code",
   "execution_count": 129,
   "metadata": {},
   "outputs": [
    {
     "name": "stderr",
     "output_type": "stream",
     "text": [
      "c:\\Users\\fishc\\Anaconda3\\lib\\site-packages\\pandas\\io\\sql.py:762: UserWarning: pandas only support SQLAlchemy connectable(engine/connection) ordatabase string URI or sqlite3 DBAPI2 connectionother DBAPI2 objects are not tested, please consider using SQLAlchemy\n",
      "  warnings.warn(\n"
     ]
    },
    {
     "data": {
      "text/html": [
       "<div>\n",
       "<style scoped>\n",
       "    .dataframe tbody tr th:only-of-type {\n",
       "        vertical-align: middle;\n",
       "    }\n",
       "\n",
       "    .dataframe tbody tr th {\n",
       "        vertical-align: top;\n",
       "    }\n",
       "\n",
       "    .dataframe thead th {\n",
       "        text-align: right;\n",
       "    }\n",
       "</style>\n",
       "<table border=\"1\" class=\"dataframe\">\n",
       "  <thead>\n",
       "    <tr style=\"text-align: right;\">\n",
       "      <th></th>\n",
       "      <th>player</th>\n",
       "      <th>total_entry_amount</th>\n",
       "      <th>league</th>\n",
       "    </tr>\n",
       "  </thead>\n",
       "  <tbody>\n",
       "    <tr>\n",
       "      <th>0</th>\n",
       "      <td>Jamal Murray</td>\n",
       "      <td>165348.0</td>\n",
       "      <td>NBA</td>\n",
       "    </tr>\n",
       "    <tr>\n",
       "      <th>1</th>\n",
       "      <td>Nikola Jokic</td>\n",
       "      <td>163722.0</td>\n",
       "      <td>NBA</td>\n",
       "    </tr>\n",
       "    <tr>\n",
       "      <th>2</th>\n",
       "      <td>LeBron James</td>\n",
       "      <td>162286.5</td>\n",
       "      <td>NBA</td>\n",
       "    </tr>\n",
       "    <tr>\n",
       "      <th>3</th>\n",
       "      <td>Jayson Tatum</td>\n",
       "      <td>159838.5</td>\n",
       "      <td>NBA</td>\n",
       "    </tr>\n",
       "    <tr>\n",
       "      <th>4</th>\n",
       "      <td>Jimmy Butler</td>\n",
       "      <td>151018.0</td>\n",
       "      <td>NBA</td>\n",
       "    </tr>\n",
       "  </tbody>\n",
       "</table>\n",
       "</div>"
      ],
      "text/plain": [
       "         player  total_entry_amount league\n",
       "0  Jamal Murray            165348.0    NBA\n",
       "1  Nikola Jokic            163722.0    NBA\n",
       "2  LeBron James            162286.5    NBA\n",
       "3  Jayson Tatum            159838.5    NBA\n",
       "4  Jimmy Butler            151018.0    NBA"
      ]
     },
     "execution_count": 129,
     "metadata": {},
     "output_type": "execute_result"
    }
   ],
   "source": [
    "sql = \"\"\"\n",
    "SELECT player, SUM(entry_amount) as total_entry_amount, league from sa_entry_data\n",
    "WHERE entry_date >= '2020-09-01' AND entry_date < '2020-10-01'\n",
    "GROUP BY player, league\n",
    "ORDER BY total_entry_amount DESC\n",
    "LIMIT 5;\n",
    "\"\"\"\n",
    "q3_df = pd.read_sql_query(sql, conn)\n",
    "q3_df"
   ]
  },
  {
   "cell_type": "markdown",
   "metadata": {},
   "source": [
    "d) Determine each user's contribution (by percentage) to the total entry amount for each player.\n",
    "\n",
    "The final output should include 3 columns: player_name, user_id, and share. \n",
    "\n",
    "Note: You do not need to format the final column with a percentage sign"
   ]
  },
  {
   "cell_type": "markdown",
   "metadata": {},
   "source": [
    "Example Output:\n",
    "\n",
    "| player_name | user_id | share |\n",
    "| --- | --- | --- |\n",
    "| Lebron James | Fedor | 3.500000 |\n",
    "| Lebron James | Rachel | 96.500000 |\n",
    "| Michael Jordan | Fedor | 1.404454 |\n",
    "| Michael Jordan | Rachel | 98.595546 |"
   ]
  },
  {
   "cell_type": "code",
   "execution_count": 120,
   "metadata": {},
   "outputs": [
    {
     "name": "stderr",
     "output_type": "stream",
     "text": [
      "c:\\Users\\fishc\\Anaconda3\\lib\\site-packages\\pandas\\io\\sql.py:762: UserWarning: pandas only support SQLAlchemy connectable(engine/connection) ordatabase string URI or sqlite3 DBAPI2 connectionother DBAPI2 objects are not tested, please consider using SQLAlchemy\n",
      "  warnings.warn(\n"
     ]
    },
    {
     "data": {
      "text/html": [
       "<div>\n",
       "<style scoped>\n",
       "    .dataframe tbody tr th:only-of-type {\n",
       "        vertical-align: middle;\n",
       "    }\n",
       "\n",
       "    .dataframe tbody tr th {\n",
       "        vertical-align: top;\n",
       "    }\n",
       "\n",
       "    .dataframe thead th {\n",
       "        text-align: right;\n",
       "    }\n",
       "</style>\n",
       "<table border=\"1\" class=\"dataframe\">\n",
       "  <thead>\n",
       "    <tr style=\"text-align: right;\">\n",
       "      <th></th>\n",
       "      <th>player_name</th>\n",
       "      <th>user_id</th>\n",
       "      <th>share</th>\n",
       "    </tr>\n",
       "  </thead>\n",
       "  <tbody>\n",
       "    <tr>\n",
       "      <th>0</th>\n",
       "      <td>Aaron Donald</td>\n",
       "      <td>bde8f28f-881b-4c42-b284-9f0ac6d6f09c</td>\n",
       "      <td>9.100857</td>\n",
       "    </tr>\n",
       "    <tr>\n",
       "      <th>1</th>\n",
       "      <td>Aaron Donald</td>\n",
       "      <td>419c2f99-3e8c-49b3-9eff-8805f04ac656</td>\n",
       "      <td>8.891118</td>\n",
       "    </tr>\n",
       "    <tr>\n",
       "      <th>2</th>\n",
       "      <td>Aaron Donald</td>\n",
       "      <td>8537b3dc-4e1e-421f-92ba-f745ce06a333</td>\n",
       "      <td>8.599307</td>\n",
       "    </tr>\n",
       "    <tr>\n",
       "      <th>3</th>\n",
       "      <td>Aaron Donald</td>\n",
       "      <td>e0cab10c-d789-405c-b346-81b9e9ed338c</td>\n",
       "      <td>7.349991</td>\n",
       "    </tr>\n",
       "    <tr>\n",
       "      <th>4</th>\n",
       "      <td>Aaron Donald</td>\n",
       "      <td>e2ad8e00-f22d-4dc7-a1a8-740692d2d5d4</td>\n",
       "      <td>7.286157</td>\n",
       "    </tr>\n",
       "  </tbody>\n",
       "</table>\n",
       "</div>"
      ],
      "text/plain": [
       "    player_name                               user_id     share\n",
       "0  Aaron Donald  bde8f28f-881b-4c42-b284-9f0ac6d6f09c  9.100857\n",
       "1  Aaron Donald  419c2f99-3e8c-49b3-9eff-8805f04ac656  8.891118\n",
       "2  Aaron Donald  8537b3dc-4e1e-421f-92ba-f745ce06a333  8.599307\n",
       "3  Aaron Donald  e0cab10c-d789-405c-b346-81b9e9ed338c  7.349991\n",
       "4  Aaron Donald  e2ad8e00-f22d-4dc7-a1a8-740692d2d5d4  7.286157"
      ]
     },
     "execution_count": 120,
     "metadata": {},
     "output_type": "execute_result"
    }
   ],
   "source": [
    "sql = \"\"\"\n",
    "WITH sum_of_entries_on_player AS (\n",
    "    SELECT\n",
    "        player,\n",
    "        SUM(entry_amount) AS total_entry_amount\n",
    "    FROM\n",
    "        sa_entry_data\n",
    "    GROUP BY\n",
    "        player\n",
    "),\n",
    "sum_of_entries_by_user AS (\n",
    "    SELECT\n",
    "        player,\n",
    "        user_id,\n",
    "        SUM(entry_amount) AS user_entry_amount\n",
    "    FROM\n",
    "        sa_entry_data\n",
    "    GROUP BY\n",
    "        player,\n",
    "        user_id\n",
    ")\n",
    "SELECT\n",
    "    u.player as player_name,\n",
    "    u.user_id,\n",
    "    (u.user_entry_amount / p.total_entry_amount) * 100 AS share\n",
    "FROM\n",
    "    sum_of_entries_by_user AS u\n",
    "JOIN\n",
    "    sum_of_entries_on_player AS p\n",
    "ON\n",
    "    u.player = p.player\n",
    "ORDER BY\n",
    "    u.player,\n",
    "    share DESC;\n",
    "\"\"\"\n",
    "q4_df = pd.read_sql_query(sql, conn)\n",
    "q4_df.head()"
   ]
  },
  {
   "cell_type": "markdown",
   "metadata": {},
   "source": [
    "# This is the end of the SQL/Python portion"
   ]
  }
 ],
 "metadata": {
  "kernelspec": {
   "display_name": "Python 3 (ipykernel)",
   "language": "python",
   "name": "python3"
  },
  "language_info": {
   "codemirror_mode": {
    "name": "ipython",
    "version": 3
   },
   "file_extension": ".py",
   "mimetype": "text/x-python",
   "name": "python",
   "nbconvert_exporter": "python",
   "pygments_lexer": "ipython3",
   "version": "3.9.12"
  }
 },
 "nbformat": 4,
 "nbformat_minor": 4
}
